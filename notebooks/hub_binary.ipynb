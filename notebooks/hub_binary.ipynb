{
 "cells": [
  {
   "cell_type": "markdown",
   "metadata": {},
   "source": [
    "#### https://colab.research.google.com/github/tensorflow/docs/blob/master/site/en/tutorials/images/transfer_learning_with_hub.ipynb#scrollTo=3n0Wb9ylKd8R\n",
    "\n",
    "\n",
    "https://tfhub.dev/google/inaturalist/inception_v3/feature_vector/4\n",
    "\n",
    "### Plant Disease Detection Tutorial\n",
    "\n"
   ]
  },
  {
   "cell_type": "code",
   "execution_count": 1,
   "metadata": {},
   "outputs": [
    {
     "output_type": "stream",
     "name": "stdout",
     "text": "Version:  2.2.0\nEager mode:  True\nHub version:  0.9.0.dev\nWARNING:tensorflow:From <ipython-input-1-94cec5baa5e5>:31: is_gpu_available (from tensorflow.python.framework.test_util) is deprecated and will be removed in a future version.\nInstructions for updating:\nUse `tf.config.list_physical_devices('GPU')` instead.\nGPU is available\n"
    }
   ],
   "source": [
    "from __future__ import absolute_import, division, print_function, unicode_literals\n",
    "import tensorflow as tf\n",
    "import sys\n",
    "import tensorflow_hub as hub\n",
    "import os\n",
    "import numpy as np\n",
    "from datetime import datetime\n",
    "import matplotlib.pyplot as plt\n",
    "import time\n",
    "sys.path.insert(0,'F:/Nilgai_photo_database/Nilgai Classifier/tf/code')\n",
    "sys.path.insert(0,'F:/Nilgai_photo_database/Nilgai Classifier/tf/code/binary_class')\n",
    "from tensorflow.keras.layers import Dense, Flatten, Conv2D\n",
    "from tensorflow.keras import Model\n",
    "from tensorflow.keras.preprocessing.image import ImageDataGenerator\n",
    "from tensorflow.keras.optimizers import Adam\n",
    "from tensorflow.keras import layers\n",
    "from mycallback import CollectBatchStats\n",
    "from fine_incptv3 import train_inv3\n",
    "from tensorflow.keras.applications.inception_v3 import InceptionV3\n",
    "from binary_datagen import binary_datagen\n",
    "from binary_predict import bi_predict\n",
    "from binary_evaluate import eval_test\n",
    "\n",
    "import re\n",
    "tf.keras.backend.clear_session()\n",
    "\n",
    "# verify TensorFlow version\n",
    "print(\"Version: \", tf.__version__)\n",
    "print(\"Eager mode: \", tf.executing_eagerly())\n",
    "print(\"Hub version: \", hub.__version__)\n",
    "print(\"GPU is\", \"available\" if tf.test.is_gpu_available() else \"NOT AVAILABLE\")"
   ]
  },
  {
   "cell_type": "code",
   "execution_count": 2,
   "metadata": {},
   "outputs": [
    {
     "output_type": "stream",
     "name": "stdout",
     "text": "Num GPUs Available:  1\nFound 1000 validated image filenames belonging to 2 classes.\nFound 10000 validated image filenames belonging to 2 classes.\n"
    }
   ],
   "source": [
    "print(\"Num GPUs Available: \", len(tf.config.experimental.list_physical_devices('GPU')))\n",
    "\n",
    "# configuration settings\n",
    "MODEL_NAME = 'Bi_Nilgai'\n",
    "BATCH_SIZE = 32  #128\n",
    "EPOCHS_1 = 5\n",
    "IMAGE_SIZE = (299,299)\n",
    "LEARNING_RATE = 0.001\n",
    "\n",
    "# Train sets\n",
    "# TRAIN_CSV = r'F:\\Nilgai_photo_database\\Nilgai Classifier\\tf\\data\\binary_nil\\100K_train_balanced_nil_data.csv'\n",
    "TRAIN_CSV = r'F:\\Nilgai_photo_database\\Nilgai Classifier\\tf\\data\\binary_nil\\1K_train_balanced_nil_data.csv'\n",
    "\n",
    "# Val sets\n",
    "VAL_CSV = r'F:\\Nilgai_photo_database\\Nilgai Classifier\\tf\\data\\binary_nil\\10K_val_balanced_nil_data.csv'\n",
    "# VAL_CSV = r'F:\\Nilgai_photo_database\\Nilgai Classifier\\tf\\data\\binary_nil\\1K_val_balanced_nil_data.csv'\n",
    "\n",
    "# Test Sets\n",
    "# TEST_CSV = r'F:\\Nilgai_photo_database\\Nilgai Classifier\\tf\\data\\binary\\5K_val_balanced_binary_data.csv'\n",
    "TEST_CSV = r'F:\\Nilgai_photo_database\\Nilgai Classifier\\tf\\data\\binary_nil\\10K_test_weighted_nil_data.csv'\n",
    "\n",
    "MODULE_HANDLE = \"https://tfhub.dev/google/inaturalist/inception_v3/feature_vector/4\"\n",
    "\n",
    "# call training and validation generators\n",
    "train_generator, validation_generator = binary_datagen(TRAIN_CSV, VAL_CSV, BATCH_SIZE, IMAGE_SIZE)"
   ]
  },
  {
   "cell_type": "code",
   "execution_count": 3,
   "metadata": {},
   "outputs": [
    {
     "output_type": "stream",
     "name": "stdout",
     "text": "Directory  Bi_Nilgai05202020-173418  Created \n"
    }
   ],
   "source": [
    "timestr = datetime.now().strftime(\"%m%d%Y-%H%M%S\")\n",
    "\n",
    "os.chdir('F:/Nilgai_photo_database/Nilgai Classifier/tf/saved_model')\n",
    "new_dir = MODEL_NAME + timestr\n",
    "\n",
    "# Create target Directory if don't exist\n",
    "if not os.path.exists(new_dir):\n",
    "    os.mkdir(new_dir)\n",
    "    print(\"Directory \", new_dir, \" Created \")\n",
    "else:    \n",
    "    print(\"Directory \", new_dir, \" already exists\")\n",
    "\n",
    "checkpoint_path = new_dir + \"/cp-{epoch:04d}.ckpt\"\n",
    "checkpoint_dir = os.path.dirname(checkpoint_path)\n"
   ]
  },
  {
   "cell_type": "code",
   "execution_count": 4,
   "metadata": {},
   "outputs": [],
   "source": [
    "\n",
    "# Create a callback that saves the model's weights\n",
    "cp_callback = tf.keras.callbacks.ModelCheckpoint(filepath=checkpoint_path, monitor='val_acc', save_best_only=True, save_weights_only=True, mode='max',\n",
    "                                                 verbose=1)\n",
    "\n",
    "cvs_name = MODEL_NAME + '_bi_nil_model_log.csv'                                                 \n",
    "cvs_logger = tf.keras.callbacks.CSVLogger(cvs_name, separator=',', append=True)\n",
    "\n",
    "batch_stats = CollectBatchStats()\n",
    "\n",
    "# Set steps per epoch\n",
    "steps_per_epoch = np.ceil(train_generator.samples/train_generator.batch_size)\n",
    "val_steps = np.ceil(validation_generator.samples/validation_generator.batch_size)"
   ]
  },
  {
   "cell_type": "markdown",
   "metadata": {},
   "source": [
    "# First stage: transfer learning using HUB (iNat)"
   ]
  },
  {
   "cell_type": "code",
   "execution_count": 5,
   "metadata": {},
   "outputs": [
    {
     "output_type": "stream",
     "name": "stdout",
     "text": "Model: \"sequential\"\n_________________________________________________________________\nLayer (type)                 Output Shape              Param #   \n=================================================================\nkeras_layer (KerasLayer)     (None, 2048)              21802784  \n_________________________________________________________________\ndropout (Dropout)            (None, 2048)              0         \n_________________________________________________________________\ndense (Dense)                (None, 1)                 2049      \n=================================================================\nTotal params: 21,804,833\nTrainable params: 2,049\nNon-trainable params: 21,802,784\n_________________________________________________________________\n"
    }
   ],
   "source": [
    "feature_extractor_layer = hub.KerasLayer(MODULE_HANDLE,\n",
    "        input_shape=(299,299,3))\n",
    "\n",
    "feature_extractor_layer.trainable = False\n",
    "\n",
    "    # setup model\n",
    "model = tf.keras.Sequential([\n",
    "    tf.keras.layers.InputLayer(input_shape=(299,299,3)),\n",
    "    feature_extractor_layer,\n",
    "    tf.keras.layers.Dropout(rate=0.2),\n",
    "    tf.keras.layers.Dense(1, activation='sigmoid')\n",
    "    ])\n",
    "\n",
    "model.build((None,)+(299,299)+(3,))\n",
    "\n",
    "model.compile(\n",
    "    optimizer=tf.keras.optimizers.Adam(learning_rate=LEARNING_RATE),\n",
    "    loss=tf.keras.losses.BinaryCrossentropy(from_logits=True),\n",
    "    metrics=['acc'])\n",
    "\n",
    "model.save_weights(checkpoint_path.format(epoch=0))\n",
    "\n",
    "model.summary()"
   ]
  },
  {
   "cell_type": "code",
   "execution_count": 6,
   "metadata": {},
   "outputs": [
    {
     "output_type": "stream",
     "name": "stdout",
     "text": "Epoch 1/5\n3125/3125 [==============================] - ETA: 0s - loss: 0.5955 - acc: 0.8750\nEpoch 00001: val_acc improved from -inf to 0.80470, saving model to Bi_Nilgai05202020-173418/cp-0001.ckpt\n3125/3125 [==============================] - 2041s 653ms/step - loss: 0.5955 - acc: 0.8750 - val_loss: 0.5932 - val_acc: 0.8047\nEpoch 2/5\n3125/3125 [==============================] - ETA: 0s - loss: 0.6515 - acc: 0.6875\nEpoch 00002: val_acc improved from 0.80470 to 0.81370, saving model to Bi_Nilgai05202020-173418/cp-0002.ckpt\n3125/3125 [==============================] - 1782s 570ms/step - loss: 0.6515 - acc: 0.6875 - val_loss: 0.5865 - val_acc: 0.8137\nEpoch 3/5\n3125/3125 [==============================] - ETA: 0s - loss: 0.6611 - acc: 0.7188\nEpoch 00003: val_acc improved from 0.81370 to 0.81810, saving model to Bi_Nilgai05202020-173418/cp-0003.ckpt\n3125/3125 [==============================] - 1801s 576ms/step - loss: 0.6611 - acc: 0.7188 - val_loss: 0.5839 - val_acc: 0.8181\nEpoch 4/5\n3125/3125 [==============================] - ETA: 0s - loss: 0.5595 - acc: 0.8750\nEpoch 00004: val_acc improved from 0.81810 to 0.82300, saving model to Bi_Nilgai05202020-173418/cp-0004.ckpt\n3125/3125 [==============================] - 1822s 583ms/step - loss: 0.5595 - acc: 0.8750 - val_loss: 0.5846 - val_acc: 0.8230\nEpoch 5/5\n3125/3125 [==============================] - ETA: 0s - loss: 0.6268 - acc: 0.7812\nEpoch 00005: val_acc did not improve from 0.82300\n3125/3125 [==============================] - 1840s 589ms/step - loss: 0.6268 - acc: 0.7812 - val_loss: 0.5794 - val_acc: 0.8164\n"
    }
   ],
   "source": [
    "history_tf = model.fit(\n",
    "            train_generator,\n",
    "            epochs=EPOCHS_1,\n",
    "            validation_data=validation_generator,\n",
    "            steps_per_epoch=steps_per_epoch,\n",
    "            validation_steps=val_steps,\n",
    "            verbose=1,\n",
    "            workers=4, \n",
    "            callbacks=[cp_callback, batch_stats, cvs_logger]\n",
    "            )"
   ]
  },
  {
   "cell_type": "markdown",
   "metadata": {},
   "source": [
    "# Second stage fine-tunning"
   ]
  },
  {
   "cell_type": "code",
   "execution_count": 7,
   "metadata": {},
   "outputs": [
    {
     "output_type": "execute_result",
     "data": {
      "text/plain": "'Bi_Nilgai05202020-173418\\\\cp-0004.ckpt'"
     },
     "metadata": {},
     "execution_count": 7
    }
   ],
   "source": [
    "EPOCHS_2 = EPOCHS_1 + 5\n",
    "LEARNING_RATE = 0.0001\n",
    "\n",
    "# load last checkpoint\n",
    "# model = tf.keras.models.load_model(model_path, compile=True)\n",
    "\n",
    "latest = tf.train.latest_checkpoint(checkpoint_dir)\n",
    "model.load_weights(latest)\n",
    "latest"
   ]
  },
  {
   "cell_type": "code",
   "execution_count": 8,
   "metadata": {},
   "outputs": [
    {
     "output_type": "stream",
     "name": "stdout",
     "text": "Model: \"sequential_1\"\n_________________________________________________________________\nLayer (type)                 Output Shape              Param #   \n=================================================================\nkeras_layer (KerasLayer)     (None, 2048)              21802784  \n_________________________________________________________________\nflatten (Flatten)            (None, 2048)              0         \n_________________________________________________________________\ndense_1 (Dense)              (None, 1)                 2049      \n=================================================================\nTotal params: 21,804,833\nTrainable params: 21,770,401\nNon-trainable params: 34,432\n_________________________________________________________________\n"
    }
   ],
   "source": [
    "# from previsous model training event\n",
    "feature_extractor_layer.trainable = True\n",
    "\n",
    "    # setup model\n",
    "model = tf.keras.Sequential([\n",
    "    tf.keras.layers.InputLayer(input_shape=IMAGE_SIZE+ (3,)),\n",
    "    feature_extractor_layer,\n",
    "    tf.keras.layers.Flatten(),\n",
    "    # tf.keras.layers.Dropout(0.2),\n",
    "    tf.keras.layers.Dense(1, activation='sigmoid')\n",
    "    ])\n",
    "\n",
    "model.build((None,)+IMAGE_SIZE+(3,))\n",
    "\n",
    "model.compile(\n",
    "    optimizer=tf.keras.optimizers.Adam(learning_rate=LEARNING_RATE),\n",
    "    loss=tf.keras.losses.BinaryCrossentropy(from_logits=True),\n",
    "    metrics=['acc'])\n",
    "    \n",
    "model.summary()"
   ]
  },
  {
   "cell_type": "code",
   "execution_count": 9,
   "metadata": {},
   "outputs": [
    {
     "output_type": "stream",
     "name": "stdout",
     "text": "Epoch 6/10\n3125/3125 [==============================] - ETA: 0s - loss: 0.7838 - acc: 0.9375\nEpoch 00006: val_acc improved from 0.82300 to 0.91190, saving model to Bi_Nilgai05202020-173418/cp-0006.ckpt\n3125/3125 [==============================] - 2558s 819ms/step - loss: 0.7838 - acc: 0.9375 - val_loss: 0.7875 - val_acc: 0.9119\nEpoch 7/10\n3125/3125 [==============================] - ETA: 0s - loss: 0.6924 - acc: 0.9688\nEpoch 00007: val_acc improved from 0.91190 to 0.92050, saving model to Bi_Nilgai05202020-173418/cp-0007.ckpt\n3125/3125 [==============================] - 2698s 863ms/step - loss: 0.6924 - acc: 0.9688 - val_loss: 0.7517 - val_acc: 0.9205\nEpoch 8/10\n3125/3125 [==============================] - ETA: 0s - loss: 0.7240 - acc: 0.8750\nEpoch 00008: val_acc improved from 0.92050 to 0.92800, saving model to Bi_Nilgai05202020-173418/cp-0008.ckpt\n3125/3125 [==============================] - 2690s 861ms/step - loss: 0.7240 - acc: 0.8750 - val_loss: 0.7225 - val_acc: 0.9280\nEpoch 9/10\n3125/3125 [==============================] - ETA: 0s - loss: 0.7361 - acc: 0.9375\nEpoch 00009: val_acc improved from 0.92800 to 0.93270, saving model to Bi_Nilgai05202020-173418/cp-0009.ckpt\n3125/3125 [==============================] - 2698s 863ms/step - loss: 0.7361 - acc: 0.9375 - val_loss: 0.6979 - val_acc: 0.9327\nEpoch 10/10\n3125/3125 [==============================] - ETA: 0s - loss: 0.6992 - acc: 0.8750\nEpoch 00010: val_acc did not improve from 0.93270\n3125/3125 [==============================] - 2574s 824ms/step - loss: 0.6992 - acc: 0.8750 - val_loss: 0.6942 - val_acc: 0.9257\n"
    }
   ],
   "source": [
    "history_ft = model.fit(\n",
    "            train_generator,\n",
    "            epochs=EPOCHS_2,\n",
    "            validation_data=validation_generator,\n",
    "            steps_per_epoch=steps_per_epoch,\n",
    "            validation_steps=val_steps,\n",
    "            initial_epoch=EPOCHS_1,\n",
    "            verbose=1,\n",
    "            workers=4, \n",
    "            callbacks=[cp_callback, batch_stats, cvs_logger]\n",
    "            )"
   ]
  },
  {
   "cell_type": "code",
   "execution_count": 10,
   "metadata": {},
   "outputs": [
    {
     "output_type": "execute_result",
     "data": {
      "text/plain": "'Bi_Nilgai05202020-173418\\\\cp-0009.ckpt'"
     },
     "metadata": {},
     "execution_count": 10
    }
   ],
   "source": [
    "EPOCHS_3 = EPOCHS_2 + 3\n",
    "LEARNING_RATE = 0.00001\n",
    "\n",
    "# load last checkpoint\n",
    "# model = tf.keras.models.load_model(model_path, compile=True)\n",
    "\n",
    "latest = tf.train.latest_checkpoint(checkpoint_dir)\n",
    "model.load_weights(latest)\n",
    "latest"
   ]
  },
  {
   "cell_type": "code",
   "execution_count": 11,
   "metadata": {},
   "outputs": [
    {
     "output_type": "stream",
     "name": "stdout",
     "text": "Model: \"sequential_2\"\n_________________________________________________________________\nLayer (type)                 Output Shape              Param #   \n=================================================================\nkeras_layer (KerasLayer)     (None, 2048)              21802784  \n_________________________________________________________________\nflatten_1 (Flatten)          (None, 2048)              0         \n_________________________________________________________________\ndense_2 (Dense)              (None, 1)                 2049      \n=================================================================\nTotal params: 21,804,833\nTrainable params: 21,770,401\nNon-trainable params: 34,432\n_________________________________________________________________\n"
    }
   ],
   "source": [
    "# from previsous model training event\n",
    "feature_extractor_layer.trainable = True\n",
    "\n",
    "    # setup model\n",
    "model = tf.keras.Sequential([\n",
    "    tf.keras.layers.InputLayer(input_shape=IMAGE_SIZE+ (3,)),\n",
    "    feature_extractor_layer,\n",
    "    tf.keras.layers.Flatten(),\n",
    "    # tf.keras.layers.Dropout(0.2),\n",
    "    tf.keras.layers.Dense(1, activation='sigmoid')\n",
    "    ])\n",
    "\n",
    "model.build((None,)+IMAGE_SIZE+(3,))\n",
    "\n",
    "model.compile(\n",
    "    optimizer=tf.keras.optimizers.Adam(learning_rate=LEARNING_RATE),\n",
    "    loss=tf.keras.losses.BinaryCrossentropy(from_logits=True),\n",
    "    metrics=['acc'])\n",
    "    \n",
    "model.summary()"
   ]
  },
  {
   "cell_type": "code",
   "execution_count": 12,
   "metadata": {},
   "outputs": [
    {
     "output_type": "stream",
     "name": "stdout",
     "text": "Epoch 11/13\n3125/3125 [==============================] - ETA: 0s - loss: 0.6644 - acc: 1.0000\nEpoch 00011: val_acc improved from 0.93270 to 0.96060, saving model to Bi_Nilgai05202020-173418/cp-0011.ckpt\n3125/3125 [==============================] - 2531s 810ms/step - loss: 0.6644 - acc: 1.0000 - val_loss: 0.6820 - val_acc: 0.9606\nEpoch 12/13\n3125/3125 [==============================] - ETA: 0s - loss: 0.6852 - acc: 1.0000\nEpoch 00012: val_acc improved from 0.96060 to 0.96130, saving model to Bi_Nilgai05202020-173418/cp-0012.ckpt\n3125/3125 [==============================] - 2542s 814ms/step - loss: 0.6852 - acc: 1.0000 - val_loss: 0.6793 - val_acc: 0.9613\nEpoch 13/13\n3125/3125 [==============================] - ETA: 0s - loss: 0.6795 - acc: 0.9688\nEpoch 00013: val_acc improved from 0.96130 to 0.96430, saving model to Bi_Nilgai05202020-173418/cp-0013.ckpt\n3125/3125 [==============================] - 2556s 818ms/step - loss: 0.6795 - acc: 0.9688 - val_loss: 0.6730 - val_acc: 0.9643\n"
    }
   ],
   "source": [
    "history_ft = model.fit(\n",
    "            train_generator,\n",
    "            epochs=EPOCHS_3,\n",
    "            validation_data=validation_generator,\n",
    "            steps_per_epoch=steps_per_epoch,\n",
    "            validation_steps=val_steps,\n",
    "            initial_epoch=EPOCHS_2,\n",
    "            verbose=1,\n",
    "            workers=4, \n",
    "            callbacks=[cp_callback, batch_stats, cvs_logger]\n",
    "            )"
   ]
  },
  {
   "cell_type": "code",
   "execution_count": 13,
   "metadata": {},
   "outputs": [
    {
     "output_type": "stream",
     "name": "stdout",
     "text": "WARNING:tensorflow:From C:\\Users\\ncu116\\AppData\\Roaming\\Python\\Python37\\site-packages\\tensorflow\\python\\ops\\resource_variable_ops.py:1817: calling BaseResourceVariable.__init__ (from tensorflow.python.ops.resource_variable_ops) with constraint is deprecated and will be removed in a future version.\nInstructions for updating:\nIf using Keras pass *_constraint arguments to layers.\nWARNING:tensorflow:From C:\\Users\\ncu116\\AppData\\Roaming\\Python\\Python37\\site-packages\\tensorflow\\python\\ops\\resource_variable_ops.py:1817: calling BaseResourceVariable.__init__ (from tensorflow.python.ops.resource_variable_ops) with constraint is deprecated and will be removed in a future version.\nInstructions for updating:\nIf using Keras pass *_constraint arguments to layers.\nINFO:tensorflow:Assets written to: F:/Nilgai_photo_database/Nilgai Classifier/tf/FINAL_saved_model/FINALE_BI_Bi_Nilgai/assets\nINFO:tensorflow:Assets written to: F:/Nilgai_photo_database/Nilgai Classifier/tf/FINAL_saved_model/FINALE_BI_Bi_Nilgai/assets\n"
    }
   ],
   "source": [
    "# finte-tuned model file path\n",
    "EXPORT_MODEL_PATH = \"F:/Nilgai_photo_database/Nilgai Classifier/tf/FINAL_saved_model/FINALE_BI_\" + MODEL_NAME + \"/\"\n",
    "\n",
    "model.save(EXPORT_MODEL_PATH, save_format='tf')"
   ]
  },
  {
   "cell_type": "markdown",
   "metadata": {},
   "source": [
    "# Review Model metrics"
   ]
  },
  {
   "cell_type": "code",
   "execution_count": 3,
   "metadata": {},
   "outputs": [
    {
     "output_type": "stream",
     "name": "stdout",
     "text": "Found 1000 validated image filenames belonging to 2 classes.\nFound 10000 validated image filenames belonging to 2 classes.\n"
    }
   ],
   "source": [
    "# call training and validation generators\n",
    "train_generator, test_generator = binary_datagen(TRAIN_CSV, TEST_CSV, BATCH_SIZE, IMAGE_SIZE)"
   ]
  },
  {
   "cell_type": "code",
   "execution_count": 12,
   "metadata": {},
   "outputs": [],
   "source": [
    "model = tf.keras.models.load_model(r'F:/Nilgai_photo_database/Nilgai Classifier/tf/FINAL_saved_model/FINALE_BI_Bi_Nilgai', compile=True)\n",
    "test_steps = np.ceil(test_generator.samples/test_generator.batch_size)\n",
    "train_steps = np.ceil(train_generator.samples/train_generator.batch_size)\n",
    "# loss, acc = model.evaluate(test_generator, steps=test_steps, verbose=1, workers=4)"
   ]
  },
  {
   "cell_type": "code",
   "execution_count": 4,
   "metadata": {},
   "outputs": [
    {
     "output_type": "stream",
     "name": "stdout",
     "text": "Found 10000 validated image filenames.\nFound 1000 validated image filenames belonging to 2 classes.\n10000/10000 [==============================] - 178s 18ms/step\nCompare Prediction and Test CSV results saved here: F:/Nilgai_photo_database/Nilgai Classifier/tf/results\\20200521-092140_10K_test_weighted_nil_data.csv_pred_results.csv\n"
    }
   ],
   "source": [
    "pred = bi_predict(TEST_CSV, TRAIN_CSV, r'F:/Nilgai_photo_database/Nilgai Classifier/tf/FINAL_saved_model/FINALE_BI_Bi_Nilgai')"
   ]
  }
 ],
 "metadata": {
  "language_info": {
   "codemirror_mode": {
    "name": "ipython",
    "version": 3
   },
   "file_extension": ".py",
   "mimetype": "text/x-python",
   "name": "python",
   "nbconvert_exporter": "python",
   "pygments_lexer": "ipython3",
   "version": "3.7.7-final"
  },
  "orig_nbformat": 2,
  "kernelspec": {
   "name": "python37764bittf21conda2d5e8e5529ee4229b3fd9d7f11fc5f96",
   "display_name": "Python 3.7.7 64-bit ('tf2.1': conda)"
  }
 },
 "nbformat": 4,
 "nbformat_minor": 2
}