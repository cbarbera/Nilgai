{
 "cells": [
  {
   "cell_type": "markdown",
   "metadata": {},
   "source": [
    "# Create example data\n",
    "This notebook creates a folder of images that can then be used to implement infrerencing (predictions using a trained neural network). We use a the csv file that contain image paths and associated labels.  We create a single folder with unlabeled images, much like what would occur in after importing raw images from camera trap memory cards."
   ]
  },
  {
   "cell_type": "code",
   "execution_count": 1,
   "metadata": {},
   "outputs": [],
   "source": [
    "# import libraries\n",
    "import pandas as pd # used for importing csv and reveiwing data\n",
    "import os # operating system\n",
    "import shutil # used to create, move, and delete files and directories"
   ]
  },
  {
   "cell_type": "markdown",
   "metadata": {},
   "source": [
    "## CSV import, cleaning, and review\n",
    "\n",
    "Import - import the example csv using pandas\n",
    "\n",
    "Clean - removes extra column \"Unnamed: 0\" created from original creation process\n",
    "\n",
    "Review - 8 remaining columns many of which should look familiar. OBJECT and OBJECTNAME seperate "
   ]
  },
  {
   "cell_type": "code",
   "execution_count": 2,
   "metadata": {},
   "outputs": [
    {
     "output_type": "execute_result",
     "data": {
      "text/plain": "       STUDYAREAN                                            IMGPATH  \\\n0     Colima East  F:\\Nilgai_photo_database\\COL\\COLE\\CO_LE_0669_1...   \n1     Colima East  F:\\Nilgai_photo_database\\COL\\COLE\\CO_LE_0668_1...   \n2      BV Troughs  F:\\Nilgai_photo_database\\BV\\BVT\\BV_T_02_190604...   \n3  Buena Vista SW  F:\\Nilgai_photo_database\\BV\\BVSW\\BV_SW_12_1901...   \n4  Buena Vista SW  F:\\Nilgai_photo_database\\BV\\BVSW\\BV_SW_12_1901...   \n\n   SPECIESID       COMMONNAME  \n0       27.0          Opossum  \n1       32.0  Tortoise/Turtle  \n2        9.0           Humans  \n3       11.0   Exotics, other  \n4       17.0          Raccoon  ",
      "text/html": "<div>\n<style scoped>\n    .dataframe tbody tr th:only-of-type {\n        vertical-align: middle;\n    }\n\n    .dataframe tbody tr th {\n        vertical-align: top;\n    }\n\n    .dataframe thead th {\n        text-align: right;\n    }\n</style>\n<table border=\"1\" class=\"dataframe\">\n  <thead>\n    <tr style=\"text-align: right;\">\n      <th></th>\n      <th>STUDYAREAN</th>\n      <th>IMGPATH</th>\n      <th>SPECIESID</th>\n      <th>COMMONNAME</th>\n    </tr>\n  </thead>\n  <tbody>\n    <tr>\n      <th>0</th>\n      <td>Colima East</td>\n      <td>F:\\Nilgai_photo_database\\COL\\COLE\\CO_LE_0669_1...</td>\n      <td>27.0</td>\n      <td>Opossum</td>\n    </tr>\n    <tr>\n      <th>1</th>\n      <td>Colima East</td>\n      <td>F:\\Nilgai_photo_database\\COL\\COLE\\CO_LE_0668_1...</td>\n      <td>32.0</td>\n      <td>Tortoise/Turtle</td>\n    </tr>\n    <tr>\n      <th>2</th>\n      <td>BV Troughs</td>\n      <td>F:\\Nilgai_photo_database\\BV\\BVT\\BV_T_02_190604...</td>\n      <td>9.0</td>\n      <td>Humans</td>\n    </tr>\n    <tr>\n      <th>3</th>\n      <td>Buena Vista SW</td>\n      <td>F:\\Nilgai_photo_database\\BV\\BVSW\\BV_SW_12_1901...</td>\n      <td>11.0</td>\n      <td>Exotics, other</td>\n    </tr>\n    <tr>\n      <th>4</th>\n      <td>Buena Vista SW</td>\n      <td>F:\\Nilgai_photo_database\\BV\\BVSW\\BV_SW_12_1901...</td>\n      <td>17.0</td>\n      <td>Raccoon</td>\n    </tr>\n  </tbody>\n</table>\n</div>"
     },
     "metadata": {},
     "execution_count": 2
    }
   ],
   "source": [
    "## import csv\n",
    "# List your unique csv paths. Remove and replace the below paths with your own. \n",
    "csv = 'F:/Nilgai_photo_database/Nilgai Classifier/Nilgai/data/1K_example_data.csv' \n",
    "\n",
    "# import csv using pandas and create a dataframe\n",
    "df = pd.read_csv(csv, index_col=0)\n",
    "\n",
    "# show the first five rows of the mutli csv file\n",
    "df.head()"
   ]
  },
  {
   "cell_type": "markdown",
   "metadata": {},
   "source": [
    "## Sample Images from CSV\n",
    "\n",
    "Take random sample of images from each class ('COMMONNAME') and place them in './sample_images' folder"
   ]
  },
  {
   "cell_type": "code",
   "execution_count": 3,
   "metadata": {},
   "outputs": [
    {
     "output_type": "stream",
     "name": "stdout",
     "text": "\nTotal number of images:  100\n"
    },
    {
     "output_type": "execute_result",
     "data": {
      "text/plain": "          STUDYAREAN                                            IMGPATH  \\\n0        Colima East  F:\\Nilgai_photo_database\\COL\\COLE\\CO_LE_0669_1...   \n1  Colima North West  F:\\Nilgai_photo_database\\COL\\CONW\\CO_NW_03_190...   \n2  Colima North West  F:\\Nilgai_photo_database\\COL\\CONW\\CO_NW_03_190...   \n3     BV East Middle  F:\\Nilgai_photo_database\\BV\\BVEM\\BV_EM_02_Cam1...   \n4   Colima N Central  F:\\Nilgai_photo_database\\COL\\CONC\\CO_NC_65.5_1...   \n\n   SPECIESID COMMONNAME  \n0       26.0  Armadillo  \n1       26.0  Armadillo  \n2       26.0  Armadillo  \n3       26.0  Armadillo  \n4       10.0      Birds  ",
      "text/html": "<div>\n<style scoped>\n    .dataframe tbody tr th:only-of-type {\n        vertical-align: middle;\n    }\n\n    .dataframe tbody tr th {\n        vertical-align: top;\n    }\n\n    .dataframe thead th {\n        text-align: right;\n    }\n</style>\n<table border=\"1\" class=\"dataframe\">\n  <thead>\n    <tr style=\"text-align: right;\">\n      <th></th>\n      <th>STUDYAREAN</th>\n      <th>IMGPATH</th>\n      <th>SPECIESID</th>\n      <th>COMMONNAME</th>\n    </tr>\n  </thead>\n  <tbody>\n    <tr>\n      <th>0</th>\n      <td>Colima East</td>\n      <td>F:\\Nilgai_photo_database\\COL\\COLE\\CO_LE_0669_1...</td>\n      <td>26.0</td>\n      <td>Armadillo</td>\n    </tr>\n    <tr>\n      <th>1</th>\n      <td>Colima North West</td>\n      <td>F:\\Nilgai_photo_database\\COL\\CONW\\CO_NW_03_190...</td>\n      <td>26.0</td>\n      <td>Armadillo</td>\n    </tr>\n    <tr>\n      <th>2</th>\n      <td>Colima North West</td>\n      <td>F:\\Nilgai_photo_database\\COL\\CONW\\CO_NW_03_190...</td>\n      <td>26.0</td>\n      <td>Armadillo</td>\n    </tr>\n    <tr>\n      <th>3</th>\n      <td>BV East Middle</td>\n      <td>F:\\Nilgai_photo_database\\BV\\BVEM\\BV_EM_02_Cam1...</td>\n      <td>26.0</td>\n      <td>Armadillo</td>\n    </tr>\n    <tr>\n      <th>4</th>\n      <td>Colima N Central</td>\n      <td>F:\\Nilgai_photo_database\\COL\\CONC\\CO_NC_65.5_1...</td>\n      <td>10.0</td>\n      <td>Birds</td>\n    </tr>\n  </tbody>\n</table>\n</div>"
     },
     "metadata": {},
     "execution_count": 3
    }
   ],
   "source": [
    "## Creates new df that randomly samples 4 images per class (100 total images). \n",
    "# group images by class\n",
    "df_grouped = df.groupby('COMMONNAME')\n",
    "\n",
    "# use pandas lambda function to apply the .sample function to each class. Number of images (n) is set to 4 and 'replace' is set to false (no images are repeated).\n",
    "df_new = df_grouped.apply(lambda x: x.sample(n=4, replace=False, random_state=1))\n",
    "df_new.reset_index(drop=True, inplace=True)\n",
    "\n",
    "print(\"\\nTotal number of images: \", df_new.shape[0])\n",
    "df_new.tail()\n",
    "df_new.head()"
   ]
  },
  {
   "cell_type": "code",
   "execution_count": 7,
   "metadata": {},
   "outputs": [],
   "source": [
    "# Uses images path in df_new to copy image and paste in the new destination (dst) /sample_images.\n",
    "for _, row in df_new.iterrows():\n",
    "    dst = 'F:/Nilgai_photo_database/Nilgai Classifier/Nilgai/sample_images'\n",
    "    shutil.copy(row['IMGPATH'], dst)"
   ]
  },
  {
   "cell_type": "markdown",
   "metadata": {},
   "source": [
    "## Rename files"
   ]
  },
  {
   "cell_type": "code",
   "execution_count": 11,
   "metadata": {},
   "outputs": [],
   "source": [
    "def rename_img(): \n",
    "  \n",
    "    for count, filename in enumerate(os.listdir('F:/Nilgai_photo_database/Nilgai Classifier/Nilgai/sample_images/images/')): \n",
    "        dst = 'F:/Nilgai_photo_database/Nilgai Classifier/Nilgai/sample_images/images/'+ str(count) + '.jpg'\n",
    "        src = 'F:/Nilgai_photo_database/Nilgai Classifier/Nilgai/sample_images/images/' + filename \n",
    "        \n",
    "        # rename() function will rename all the files \n",
    "        os.rename(src, dst) \n",
    "rename_img()"
   ]
  },
  {
   "cell_type": "code",
   "execution_count": null,
   "metadata": {},
   "outputs": [],
   "source": []
  }
 ],
 "metadata": {
  "language_info": {
   "codemirror_mode": {
    "name": "ipython",
    "version": 3
   },
   "file_extension": ".py",
   "mimetype": "text/x-python",
   "name": "python",
   "nbconvert_exporter": "python",
   "pygments_lexer": "ipython3",
   "version": "3.7.7-final"
  },
  "orig_nbformat": 2,
  "kernelspec": {
   "name": "python37764bittf21conda2d5e8e5529ee4229b3fd9d7f11fc5f96",
   "display_name": "Python 3.7.7 64-bit ('tf2.1': conda)"
  }
 },
 "nbformat": 4,
 "nbformat_minor": 2
}