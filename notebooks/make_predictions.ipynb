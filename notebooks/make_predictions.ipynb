{
 "cells": [
  {
   "cell_type": "markdown",
   "metadata": {},
   "source": [
    "# Makes predictions of unlabeled images\n",
    "\n",
    "Todo: make functions or class"
   ]
  },
  {
   "cell_type": "code",
   "execution_count": 1,
   "metadata": {},
   "outputs": [],
   "source": [
    "# import libraries and dependencies\n",
    "import tensorflow as tf \n",
    "import os\n",
    "import numpy as np \n",
    "import matplotlib.pyplot as plt\n",
    "import cv2\n",
    "import shutil"
   ]
  },
  {
   "cell_type": "code",
   "execution_count": 42,
   "metadata": {},
   "outputs": [
    {
     "output_type": "stream",
     "name": "stdout",
     "text": "Found 100 images belonging to 1 classes.\n"
    }
   ],
   "source": [
    "test_dir = 'F:/Nilgai_photo_database/Nilgai Classifier/Nilgai/sample_images/'\n",
    "img_dir = 'F:/Nilgai_photo_database/Nilgai Classifier/Nilgai/sample_images/images/'\n",
    "pred_dir = 'F:/Nilgai_photo_database/Nilgai Classifier/Nilgai/predictions/'\n",
    "mulit_model_path = 'F:/Nilgai_photo_database/Nilgai Classifier/Nilgai/models/FINALE_MULTI_multi_20_epo_200K_'\n",
    "\n",
    "BATCH_SIZE = 1\n",
    "IMG_HEIGHT = 299\n",
    "IMG_WIDTH = 299\n",
    "\n",
    "def img_crop(img):\n",
    "    # for cropping\n",
    "    offset_width = 0\n",
    "    offset_height = 9\n",
    "    target_height = 273\n",
    "    target_width = 299\n",
    "\n",
    "    # for random width shift\n",
    "    wrg = 0.5 \n",
    "    hrg = 0.0\n",
    "    row_axis =  2\n",
    "    channel_axis = 1\n",
    "\n",
    "    new_img = tf.image.crop_to_bounding_box(img, offset_height, offset_width, target_height, target_width)\n",
    "    new_img = tf.image.resize(new_img, (299,299))\n",
    "    return new_img\n",
    "\n",
    "img_generator = tf.keras.preprocessing.image.ImageDataGenerator(rescale=1./255, preprocessing_function=img_crop)\n",
    "\n",
    "test_generator = img_generator.flow_from_directory(directory=str(test_dir),\n",
    "                                                     batch_size=BATCH_SIZE,\n",
    "                                                     shuffle=False,\n",
    "                                                     target_size=(IMG_HEIGHT, IMG_WIDTH),\n",
    "                                                     class_mode= None)\n",
    "# load model\n",
    "multi_model = tf.keras.models.load_model(mulit_model_path, compile=True)                                            "
   ]
  },
  {
   "cell_type": "code",
   "execution_count": 43,
   "metadata": {},
   "outputs": [
    {
     "output_type": "stream",
     "name": "stdout",
     "text": "100/100 [==============================] - 2s 18ms/step\n"
    }
   ],
   "source": [
    "# make predictions\n",
    "pred_steps=np.ceil(test_generator.samples/test_generator.batch_size)\n",
    "\n",
    "pred = multi_model.predict(test_generator, verbose=1, workers=4, steps=pred_steps)"
   ]
  },
  {
   "cell_type": "code",
   "execution_count": 44,
   "metadata": {},
   "outputs": [],
   "source": [
    "# define class names and create and index for future mapping\n",
    "class_names = [('Armadillo', 0),\n",
    " ('Birds', 1),\n",
    " ('Bobcat', 2),\n",
    " ('Cattle', 3),\n",
    " ('Coyote', 4),\n",
    " ('Dog', 5),\n",
    " ('Exotics, Other', 6),\n",
    " ('Horse', 7),\n",
    " ('Humans', 8),\n",
    " ('Mouse', 9),\n",
    " ('Nilgai', 10),\n",
    " ('None', 11),\n",
    " ('Ocelot', 12),\n",
    " ('Opossum', 13),\n",
    " ('Pig', 14),\n",
    " ('Rabbit', 15),\n",
    " ('Raccoon', 16),\n",
    " ('Rat', 17),\n",
    " ('Skunk', 18),\n",
    " ('Spider', 19),\n",
    " ('Squirrel', 20),\n",
    " ('Tortoise', 21),\n",
    " ('Turkey', 22),\n",
    " ('Unknown', 23),\n",
    " ('White-tailed Deer', 24)]\n",
    "class_names = np.array([key.title() for key, value in class_names])\n",
    "predicted_id = np.argmax(pred, axis=-1)\n",
    "predicted_label_batch = class_names[predicted_id]\n"
   ]
  },
  {
   "cell_type": "code",
   "execution_count": 49,
   "metadata": {},
   "outputs": [
    {
     "output_type": "stream",
     "name": "stdout",
     "text": "The \"Armadillo\" folder already exists. Check your prediction path.\nThe \"Birds\" folder already exists. Check your prediction path.\nThe \"Bobcat\" folder already exists. Check your prediction path.\nThe \"Cattle\" folder already exists. Check your prediction path.\nThe \"Coyote\" folder already exists. Check your prediction path.\nThe \"Dog\" folder already exists. Check your prediction path.\nThe \"Exotics, Other\" folder already exists. Check your prediction path.\nThe \"Horse\" folder already exists. Check your prediction path.\nThe \"Humans\" folder already exists. Check your prediction path.\nThe \"Mouse\" folder already exists. Check your prediction path.\nThe \"Nilgai\" folder already exists. Check your prediction path.\nThe \"None\" folder already exists. Check your prediction path.\nThe \"Ocelot\" folder already exists. Check your prediction path.\nThe \"Opossum\" folder already exists. Check your prediction path.\nThe \"Pig\" folder already exists. Check your prediction path.\nThe \"Rabbit\" folder already exists. Check your prediction path.\nThe \"Raccoon\" folder already exists. Check your prediction path.\nThe \"Rat\" folder already exists. Check your prediction path.\nThe \"Skunk\" folder already exists. Check your prediction path.\nThe \"Spider\" folder already exists. Check your prediction path.\nThe \"Squirrel\" folder already exists. Check your prediction path.\nThe \"Tortoise\" folder already exists. Check your prediction path.\nThe \"Turkey\" folder already exists. Check your prediction path.\nThe \"Unknown\" folder already exists. Check your prediction path.\nThe \"White-Tailed Deer\" folder already exists. Check your prediction path.\n"
    }
   ],
   "source": [
    "for i in class_names:\n",
    "    img_path = os.path.join(pred_dir, str(i))\n",
    "    try:\n",
    "        os.makedirs(img_path, exist_ok=False)\n",
    "    except:\n",
    "        print(\"The \" + '\"' + str(i) + '\"' + \" folder already exists. Check your prediction path.\")"
   ]
  },
  {
   "cell_type": "code",
   "execution_count": 47,
   "metadata": {},
   "outputs": [
    {
     "output_type": "stream",
     "name": "stdout",
     "text": "\nsamp_0 prediction: Armadillo (100.00%)\nMoved to Nilgai/predictions/Armadillo.\n\nsamp_1 prediction: Cattle (100.00%)\nMoved to Nilgai/predictions/Cattle.\n\nsamp_10 prediction: Mouse (100.00%)\nMoved to Nilgai/predictions/Mouse.\n\nsamp_11 prediction: Nilgai (96.29%)\nMoved to Nilgai/predictions/Nilgai.\n\nsamp_12 prediction: Exotics, Other (100.00%)\nMoved to Nilgai/predictions/Exotics, Other.\n\nsamp_13 prediction: Cattle (97.75%)\nMoved to Nilgai/predictions/Cattle.\n\nsamp_14 prediction: Birds (100.00%)\nMoved to Nilgai/predictions/Birds.\n\nsamp_15 prediction: Cattle (88.80%)\nMoved to Nilgai/predictions/Cattle.\n\nsamp_16 prediction: Ocelot (100.00%)\nMoved to Nilgai/predictions/Ocelot.\n\nsamp_17 prediction: White-Tailed Deer (63.45%)\nMoved to Nilgai/predictions/White-Tailed Deer.\n\nsamp_18 prediction: Coyote (100.00%)\nMoved to Nilgai/predictions/Coyote.\n\nsamp_19 prediction: Opossum (99.99%)\nMoved to Nilgai/predictions/Opossum.\n\nsamp_2 prediction: Tortoise (100.00%)\nMoved to Nilgai/predictions/Tortoise.\n\nsamp_20 prediction: Birds (100.00%)\nMoved to Nilgai/predictions/Birds.\n\nsamp_21 prediction: Skunk (100.00%)\nMoved to Nilgai/predictions/Skunk.\n\nsamp_22 prediction: Birds (100.00%)\nMoved to Nilgai/predictions/Birds.\n\nsamp_23 prediction: Cattle (100.00%)\nMoved to Nilgai/predictions/Cattle.\n\nsamp_24 prediction: Pig (100.00%)\nMoved to Nilgai/predictions/Pig.\n\nsamp_25 prediction: Pig (100.00%)\nMoved to Nilgai/predictions/Pig.\n\nsamp_26 prediction: Pig (100.00%)\nMoved to Nilgai/predictions/Pig.\n\nsamp_27 prediction: Rabbit (100.00%)\nMoved to Nilgai/predictions/Rabbit.\n\nsamp_28 prediction: Raccoon (100.00%)\nMoved to Nilgai/predictions/Raccoon.\n\nsamp_29 prediction: Pig (100.00%)\nMoved to Nilgai/predictions/Pig.\n\nsamp_3 prediction: Rabbit (100.00%)\nMoved to Nilgai/predictions/Rabbit.\n\nsamp_30 prediction: Tortoise (100.00%)\nMoved to Nilgai/predictions/Tortoise.\n\nsamp_31 prediction: Tortoise (100.00%)\nMoved to Nilgai/predictions/Tortoise.\n\nsamp_32 prediction: Nilgai (98.19%)\nMoved to Nilgai/predictions/Nilgai.\n\nsamp_33 prediction: Coyote (89.57%)\nMoved to Nilgai/predictions/Coyote.\n\nsamp_34 prediction: Unknown (100.00%)\nMoved to Nilgai/predictions/Unknown.\n\nsamp_35 prediction: Skunk (100.00%)\nMoved to Nilgai/predictions/Skunk.\n\nsamp_36 prediction: White-Tailed Deer (100.00%)\nMoved to Nilgai/predictions/White-Tailed Deer.\n\nsamp_37 prediction: Dog (100.00%)\nMoved to Nilgai/predictions/Dog.\n\nsamp_38 prediction: Dog (100.00%)\nMoved to Nilgai/predictions/Dog.\n\nsamp_39 prediction: Dog (100.00%)\nMoved to Nilgai/predictions/Dog.\n\nsamp_4 prediction: Ocelot (100.00%)\nMoved to Nilgai/predictions/Ocelot.\n\nsamp_40 prediction: Ocelot (100.00%)\nMoved to Nilgai/predictions/Ocelot.\n\nsamp_41 prediction: Dog (100.00%)\nMoved to Nilgai/predictions/Dog.\n\nsamp_42 prediction: Armadillo (100.00%)\nMoved to Nilgai/predictions/Armadillo.\n\nsamp_43 prediction: Armadillo (99.99%)\nMoved to Nilgai/predictions/Armadillo.\n\nsamp_44 prediction: Turkey (99.99%)\nMoved to Nilgai/predictions/Turkey.\n\nsamp_45 prediction: Birds (100.00%)\nMoved to Nilgai/predictions/Birds.\n\nsamp_46 prediction: Turkey (100.00%)\nMoved to Nilgai/predictions/Turkey.\n\nsamp_47 prediction: Turkey (99.90%)\nMoved to Nilgai/predictions/Turkey.\n\nsamp_48 prediction: Coyote (100.00%)\nMoved to Nilgai/predictions/Coyote.\n\nsamp_49 prediction: Opossum (100.00%)\nMoved to Nilgai/predictions/Opossum.\n\nsamp_5 prediction: Armadillo (100.00%)\nMoved to Nilgai/predictions/Armadillo.\n\nsamp_50 prediction: Opossum (99.98%)\nMoved to Nilgai/predictions/Opossum.\n\nsamp_51 prediction: Mouse (100.00%)\nMoved to Nilgai/predictions/Mouse.\n\nsamp_52 prediction: Ocelot (99.99%)\nMoved to Nilgai/predictions/Ocelot.\n\nsamp_53 prediction: Turkey (83.72%)\nMoved to Nilgai/predictions/Turkey.\n\nsamp_54 prediction: Nilgai (100.00%)\nMoved to Nilgai/predictions/Nilgai.\n\nsamp_55 prediction: Humans (100.00%)\nMoved to Nilgai/predictions/Humans.\n\nsamp_56 prediction: None (99.97%)\nMoved to Nilgai/predictions/None.\n\nsamp_57 prediction: White-Tailed Deer (100.00%)\nMoved to Nilgai/predictions/White-Tailed Deer.\n\nsamp_58 prediction: White-Tailed Deer (100.00%)\nMoved to Nilgai/predictions/White-Tailed Deer.\n\nsamp_59 prediction: Humans (100.00%)\nMoved to Nilgai/predictions/Humans.\n\nsamp_6 prediction: None (100.00%)\nMoved to Nilgai/predictions/None.\n\nsamp_60 prediction: Bobcat (100.00%)\nMoved to Nilgai/predictions/Bobcat.\n\nsamp_61 prediction: Humans (55.16%)\nMoved to Nilgai/predictions/Humans.\n\nsamp_62 prediction: Raccoon (100.00%)\nMoved to Nilgai/predictions/Raccoon.\n\nsamp_63 prediction: Raccoon (100.00%)\nMoved to Nilgai/predictions/Raccoon.\n\nsamp_64 prediction: Exotics, Other (100.00%)\nMoved to Nilgai/predictions/Exotics, Other.\n\nsamp_65 prediction: Humans (94.53%)\nMoved to Nilgai/predictions/Humans.\n\nsamp_66 prediction: Horse (99.63%)\nMoved to Nilgai/predictions/Horse.\n\nsamp_67 prediction: Bobcat (99.99%)\nMoved to Nilgai/predictions/Bobcat.\n\nsamp_68 prediction: Bobcat (100.00%)\nMoved to Nilgai/predictions/Bobcat.\n\nsamp_69 prediction: Nilgai (66.26%)\nMoved to Nilgai/predictions/Nilgai.\n\nsamp_7 prediction: Raccoon (100.00%)\nMoved to Nilgai/predictions/Raccoon.\n\nsamp_70 prediction: Rat (94.97%)\nMoved to Nilgai/predictions/Rat.\n\nsamp_71 prediction: Unknown (100.00%)\nMoved to Nilgai/predictions/Unknown.\n\nsamp_72 prediction: Spider (100.00%)\nMoved to Nilgai/predictions/Spider.\n\nsamp_73 prediction: Rat (100.00%)\nMoved to Nilgai/predictions/Rat.\n\nsamp_74 prediction: Spider (100.00%)\nMoved to Nilgai/predictions/Spider.\n\nsamp_75 prediction: Rabbit (99.80%)\nMoved to Nilgai/predictions/Rabbit.\n\nsamp_76 prediction: Exotics, Other (100.00%)\nMoved to Nilgai/predictions/Exotics, Other.\n\nsamp_77 prediction: Pig (100.00%)\nMoved to Nilgai/predictions/Pig.\n\nsamp_78 prediction: Coyote (99.96%)\nMoved to Nilgai/predictions/Coyote.\n\nsamp_79 prediction: Squirrel (100.00%)\nMoved to Nilgai/predictions/Squirrel.\n\nsamp_8 prediction: Skunk (100.00%)\nMoved to Nilgai/predictions/Skunk.\n\nsamp_80 prediction: Squirrel (100.00%)\nMoved to Nilgai/predictions/Squirrel.\n\nsamp_81 prediction: Squirrel (99.99%)\nMoved to Nilgai/predictions/Squirrel.\n\nsamp_82 prediction: Squirrel (100.00%)\nMoved to Nilgai/predictions/Squirrel.\n\nsamp_83 prediction: Humans (100.00%)\nMoved to Nilgai/predictions/Humans.\n\nsamp_84 prediction: Rabbit (100.00%)\nMoved to Nilgai/predictions/Rabbit.\n\nsamp_85 prediction: Skunk (100.00%)\nMoved to Nilgai/predictions/Skunk.\n\nsamp_86 prediction: Mouse (100.00%)\nMoved to Nilgai/predictions/Mouse.\n\nsamp_87 prediction: Spider (100.00%)\nMoved to Nilgai/predictions/Spider.\n\nsamp_88 prediction: Exotics, Other (100.00%)\nMoved to Nilgai/predictions/Exotics, Other.\n\nsamp_89 prediction: Tortoise (100.00%)\nMoved to Nilgai/predictions/Tortoise.\n\nsamp_9 prediction: Mouse (100.00%)\nMoved to Nilgai/predictions/Mouse.\n\nsamp_90 prediction: Humans (100.00%)\nMoved to Nilgai/predictions/Humans.\n\nsamp_91 prediction: Horse (100.00%)\nMoved to Nilgai/predictions/Horse.\n\nsamp_92 prediction: None (100.00%)\nMoved to Nilgai/predictions/None.\n\nsamp_93 prediction: Rat (100.00%)\nMoved to Nilgai/predictions/Rat.\n\nsamp_94 prediction: Rat (100.00%)\nMoved to Nilgai/predictions/Rat.\n\nsamp_95 prediction: None (100.00%)\nMoved to Nilgai/predictions/None.\n\nsamp_96 prediction: White-Tailed Deer (100.00%)\nMoved to Nilgai/predictions/White-Tailed Deer.\n\nsamp_97 prediction: Mouse (100.00%)\nMoved to Nilgai/predictions/Mouse.\n\nsamp_98 prediction: Humans (100.00%)\nMoved to Nilgai/predictions/Humans.\n\nsamp_99 prediction: Mouse (100.00%)\nMoved to Nilgai/predictions/Mouse.\n"
    }
   ],
   "source": [
    "## Map prediction name to labels, move images to repsective folders, and print results\n",
    "## Todo: make this a function\n",
    "for i, logits in enumerate(pred):\n",
    "    class_idx = tf.argmax(logits).numpy()\n",
    "    p = logits[class_idx]\n",
    "    name = class_names[class_idx]\n",
    "    img_name = os.path.split(test_generator.filenames[i])[1]\n",
    "    samp_name = os.path.splitext(img_name)[0]\n",
    "    img = os.path.join(img_dir,img_name)\n",
    "    dst = os.path.join(pred_dir, name)\n",
    "    shutil.copy(img, dst)\n",
    "    print(\"\\n{} prediction: {} ({:4.2f}%)\".format(samp_name, name, 100*p))\n",
    "    print(\"Moved to Nilgai/predictions/\" + name + \".\")\n"
   ]
  },
  {
   "cell_type": "code",
   "execution_count": null,
   "metadata": {},
   "outputs": [],
   "source": []
  }
 ],
 "metadata": {
  "language_info": {
   "codemirror_mode": {
    "name": "ipython",
    "version": 3
   },
   "file_extension": ".py",
   "mimetype": "text/x-python",
   "name": "python",
   "nbconvert_exporter": "python",
   "pygments_lexer": "ipython3",
   "version": "3.7.7-final"
  },
  "orig_nbformat": 2,
  "kernelspec": {
   "name": "python37764bittf21conda2d5e8e5529ee4229b3fd9d7f11fc5f96",
   "display_name": "Python 3.7.7 64-bit ('tf2.1': conda)"
  }
 },
 "nbformat": 4,
 "nbformat_minor": 2
}