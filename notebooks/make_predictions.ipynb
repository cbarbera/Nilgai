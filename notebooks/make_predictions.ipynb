{
 "cells": [
  {
   "cell_type": "code",
   "execution_count": null,
   "metadata": {},
   "outputs": [],
   "source": [
    "# List directory where non-labeled images are stored\n",
    "folder_dir = \"F:/Nilgai_photo_database/test/test2\"\n",
    "\n",
    "# Path to trained model weight file\n",
    "\n",
    "model_file = \n",
    "\n",
    "result_dir_location = \"F:/Nilgai_photo_database/test/results\"\n",
    "\n",
    "# New directory names for results based on classes\n",
    "dir_name_none = result_dir_location + \"/\" + \"results_none\"\n",
    "dir_name_animal = result_dir_location + \"/\" + \"results_animals\"\n",
    "\n",
    "\n",
    "# Get model\n",
    "model = get_pretrained_model('vgg16', num_classes=2, batch_size=1)\n",
    "\n",
    "\n",
    "if not os.path.exists(dir_name_none):\n",
    "            os.mkdir(dir_name_none)\n",
    "            os.mkdir(dir_name_animal)\n",
    "\n",
    "for item in os.listdir(folder_dir):\n",
    "    # Get single non-labeled image in directory\n",
    "    img_path = os.path.join(folder_dir,item)\n",
    "\n",
    "    # Load into model\n",
    "    img_load = model(image_loader(transforms, img_path))\n",
    "\n",
    "    # Detach from gpu\n",
    "    img_format = img_load.cpu().detach().numpy()\n",
    "    result = np.argmax(img_format)\n",
    "\n",
    "    # If result is a \"0\", it moves the image to a premade directory labeld (\"...none\")\n",
    "    if result == 0:\n",
    "        img_name = os.path.split(img_path)[1]\n",
    "        new_loc = os.path.join(dir_name_none,img_name)\n",
    "        shutil.copy(img_path, new_loc)\n",
    "\n",
    "    # If result is a \"1\", it moves the image to a premade directory labeld (\"...animal\")\n",
    "    elif result == 1:\n",
    "        img_name = os.path.split(img_path)[1]\n",
    "        new_loc = os.path.join(dir_name_animal,img_name)\n",
    "        shutil.copy(img_path, new_loc)\n",
    "\n",
    "print(\"Inferencing is complete\")"
   ]
  }
 ],
 "metadata": {
  "language_info": {
   "codemirror_mode": {
    "name": "ipython",
    "version": 3
   },
   "file_extension": ".py",
   "mimetype": "text/x-python",
   "name": "python",
   "nbconvert_exporter": "python",
   "pygments_lexer": "ipython3",
   "version": 3
  },
  "orig_nbformat": 2
 },
 "nbformat": 4,
 "nbformat_minor": 2
}