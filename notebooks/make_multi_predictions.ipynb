{
 "cells": [
  {
   "cell_type": "markdown",
   "metadata": {},
   "source": [
    "# Makes predictions of unlabeled images"
   ]
  },
  {
   "cell_type": "code",
   "execution_count": 13,
   "metadata": {},
   "outputs": [],
   "source": [
    "# import libraries and dependencies\n",
    "import tensorflow as tf \n",
    "import tensorflow_hub as hub\n",
    "import os\n",
    "import numpy as np \n",
    "import matplotlib.pyplot as plt\n",
    "import shutil"
   ]
  },
  {
   "cell_type": "code",
   "execution_count": 8,
   "metadata": {},
   "outputs": [
    {
     "output_type": "stream",
     "name": "stdout",
     "text": "Found 100 images belonging to 1 classes.\n"
    }
   ],
   "source": [
    "test_dir = 'F:/Nilgai_photo_database/Nilgai Classifier/Nilgai/sample_images/'\n",
    "img_dir = 'F:/Nilgai_photo_database/Nilgai Classifier/Nilgai/sample_images/images/'\n",
    "pred_dir = 'F:/Nilgai_photo_database/Nilgai Classifier/Nilgai/predictions/'\n",
    "multi_model_path = 'F:/Nilgai_photo_database/Nilgai Classifier/Nilgai/models/Final_multi_05262020.h5'\n",
    "\n",
    "BATCH_SIZE = 1\n",
    "IMG_HEIGHT = 299\n",
    "IMG_WIDTH = 299\n",
    "\n",
    "def img_crop(img):\n",
    "    # for cropping\n",
    "    offset_width = 0\n",
    "    offset_height = 9\n",
    "    target_height = 273\n",
    "    target_width = 299\n",
    "\n",
    "    # for random width shift\n",
    "    wrg = 0.5 \n",
    "    hrg = 0.0\n",
    "    row_axis =  2\n",
    "    channel_axis = 1\n",
    "\n",
    "    new_img = tf.image.crop_to_bounding_box(img, offset_height, offset_width, target_height, target_width)\n",
    "    new_img = tf.image.resize(new_img, (299,299))\n",
    "    return new_img\n",
    "\n",
    "img_generator = tf.keras.preprocessing.image.ImageDataGenerator(rescale=1./255, preprocessing_function=img_crop)\n",
    "\n",
    "test_generator = img_generator.flow_from_directory(directory=str(test_dir),\n",
    "                                                     batch_size=BATCH_SIZE,\n",
    "                                                     shuffle=False,\n",
    "                                                     target_size=(IMG_HEIGHT, IMG_WIDTH),\n",
    "                                                     class_mode= None)\n",
    "# load model\n",
    "multi_model = tf.keras.models.load_model(multi_model_path, custom_objects={'KerasLayer':hub.KerasLayer}, compile=True)"
   ]
  },
  {
   "cell_type": "code",
   "execution_count": 9,
   "metadata": {},
   "outputs": [
    {
     "output_type": "stream",
     "name": "stdout",
     "text": "100/100 [==============================] - 2s 18ms/step\n"
    }
   ],
   "source": [
    "# make predictions\n",
    "pred_steps=np.ceil(test_generator.samples/test_generator.batch_size)\n",
    "\n",
    "pred = multi_model.predict(test_generator, verbose=1, workers=4, steps=pred_steps)"
   ]
  },
  {
   "cell_type": "code",
   "execution_count": 2,
   "metadata": {},
   "outputs": [
    {
     "output_type": "error",
     "ename": "NameError",
     "evalue": "name 'multi_model' is not defined",
     "traceback": [
      "\u001b[1;31m---------------------------------------------------------------------------\u001b[0m",
      "\u001b[1;31mNameError\u001b[0m                                 Traceback (most recent call last)",
      "\u001b[1;32m<ipython-input-2-241a03dedca2>\u001b[0m in \u001b[0;36m<module>\u001b[1;34m\u001b[0m\n\u001b[1;32m----> 1\u001b[1;33m \u001b[0mmulti_model\u001b[0m\u001b[1;33m.\u001b[0m\u001b[0mlayers\u001b[0m\u001b[1;33m\u001b[0m\u001b[1;33m\u001b[0m\u001b[0m\n\u001b[0m",
      "\u001b[1;31mNameError\u001b[0m: name 'multi_model' is not defined"
     ]
    }
   ],
   "source": []
  },
  {
   "cell_type": "code",
   "execution_count": 10,
   "metadata": {},
   "outputs": [],
   "source": [
    "# define class names and create and index for future mapping\n",
    "class_names = [('Armadillo', 0),\n",
    " ('Birds', 1),\n",
    " ('Bobcat', 2),\n",
    " ('Cattle', 3),\n",
    " ('Coyote', 4),\n",
    " ('Dog', 5),\n",
    " ('Exotics, Other', 6),\n",
    " ('Horse', 7),\n",
    " ('Humans', 8),\n",
    " ('Mouse', 9),\n",
    " ('Nilgai', 10),\n",
    " ('None', 11),\n",
    " ('Ocelot', 12),\n",
    " ('Opossum', 13),\n",
    " ('Pig', 14),\n",
    " ('Rabbit', 15),\n",
    " ('Raccoon', 16),\n",
    " ('Rat', 17),\n",
    " ('Skunk', 18),\n",
    " ('Spider', 19),\n",
    " ('Squirrel', 20),\n",
    " ('Tortoise', 21),\n",
    " ('Turkey', 22),\n",
    " ('Unknown', 23),\n",
    " ('White-tailed Deer', 24)]\n",
    "class_names = np.array([key.title() for key, value in class_names])\n",
    "predicted_id = np.argmax(pred, axis=-1)\n",
    "predicted_label_batch = class_names[predicted_id]"
   ]
  },
  {
   "cell_type": "code",
   "execution_count": 11,
   "metadata": {},
   "outputs": [
    {
     "output_type": "stream",
     "name": "stdout",
     "text": "The \"Nilgai\" folder already exists. Check your prediction path.\n"
    }
   ],
   "source": [
    "for i in class_names:\n",
    "    img_path = os.path.join(pred_dir, str(i))\n",
    "    try:\n",
    "        os.makedirs(img_path, exist_ok=False)\n",
    "    except:\n",
    "        print(\"The \" + '\"' + str(i) + '\"' + \" folder already exists. Check your prediction path.\")"
   ]
  },
  {
   "cell_type": "code",
   "execution_count": 14,
   "metadata": {},
   "outputs": [
    {
     "output_type": "stream",
     "name": "stdout",
     "text": "\n0 prediction: Armadillo (100.00%)\nMoved to Nilgai/predictions/Armadillo.\n\n1 prediction: Cattle (100.00%)\nMoved to Nilgai/predictions/Cattle.\n\n10 prediction: Tortoise (100.00%)\nMoved to Nilgai/predictions/Tortoise.\n\n11 prediction: Rabbit (100.00%)\nMoved to Nilgai/predictions/Rabbit.\n\n12 prediction: Ocelot (100.00%)\nMoved to Nilgai/predictions/Ocelot.\n\n13 prediction: Armadillo (100.00%)\nMoved to Nilgai/predictions/Armadillo.\n\n14 prediction: None (100.00%)\nMoved to Nilgai/predictions/None.\n\n15 prediction: Raccoon (100.00%)\nMoved to Nilgai/predictions/Raccoon.\n\n16 prediction: Skunk (100.00%)\nMoved to Nilgai/predictions/Skunk.\n\n17 prediction: Mouse (100.00%)\nMoved to Nilgai/predictions/Mouse.\n\n18 prediction: Mouse (100.00%)\nMoved to Nilgai/predictions/Mouse.\n\n19 prediction: Nilgai (96.29%)\nMoved to Nilgai/predictions/Nilgai.\n\n2 prediction: Exotics, Other (100.00%)\nMoved to Nilgai/predictions/Exotics, Other.\n\n20 prediction: Cattle (97.75%)\nMoved to Nilgai/predictions/Cattle.\n\n21 prediction: Birds (100.00%)\nMoved to Nilgai/predictions/Birds.\n\n22 prediction: Cattle (88.80%)\nMoved to Nilgai/predictions/Cattle.\n\n23 prediction: Ocelot (100.00%)\nMoved to Nilgai/predictions/Ocelot.\n\n24 prediction: White-Tailed Deer (63.45%)\nMoved to Nilgai/predictions/White-Tailed Deer.\n\n25 prediction: Coyote (100.00%)\nMoved to Nilgai/predictions/Coyote.\n\n26 prediction: Opossum (99.99%)\nMoved to Nilgai/predictions/Opossum.\n\n27 prediction: Birds (100.00%)\nMoved to Nilgai/predictions/Birds.\n\n28 prediction: Skunk (100.00%)\nMoved to Nilgai/predictions/Skunk.\n\n29 prediction: Birds (100.00%)\nMoved to Nilgai/predictions/Birds.\n\n3 prediction: Cattle (100.00%)\nMoved to Nilgai/predictions/Cattle.\n\n30 prediction: Pig (100.00%)\nMoved to Nilgai/predictions/Pig.\n\n31 prediction: Pig (100.00%)\nMoved to Nilgai/predictions/Pig.\n\n32 prediction: Pig (100.00%)\nMoved to Nilgai/predictions/Pig.\n\n33 prediction: Rabbit (100.00%)\nMoved to Nilgai/predictions/Rabbit.\n\n34 prediction: Raccoon (100.00%)\nMoved to Nilgai/predictions/Raccoon.\n\n35 prediction: Pig (100.00%)\nMoved to Nilgai/predictions/Pig.\n\n36 prediction: Tortoise (100.00%)\nMoved to Nilgai/predictions/Tortoise.\n\n37 prediction: Tortoise (100.00%)\nMoved to Nilgai/predictions/Tortoise.\n\n38 prediction: Nilgai (98.19%)\nMoved to Nilgai/predictions/Nilgai.\n\n39 prediction: Coyote (89.57%)\nMoved to Nilgai/predictions/Coyote.\n\n4 prediction: Unknown (100.00%)\nMoved to Nilgai/predictions/Unknown.\n\n40 prediction: Skunk (100.00%)\nMoved to Nilgai/predictions/Skunk.\n\n41 prediction: White-Tailed Deer (100.00%)\nMoved to Nilgai/predictions/White-Tailed Deer.\n\n42 prediction: Dog (100.00%)\nMoved to Nilgai/predictions/Dog.\n\n43 prediction: Dog (100.00%)\nMoved to Nilgai/predictions/Dog.\n\n44 prediction: Dog (100.00%)\nMoved to Nilgai/predictions/Dog.\n\n45 prediction: Ocelot (100.00%)\nMoved to Nilgai/predictions/Ocelot.\n\n46 prediction: Dog (100.00%)\nMoved to Nilgai/predictions/Dog.\n\n47 prediction: Armadillo (100.00%)\nMoved to Nilgai/predictions/Armadillo.\n\n48 prediction: Armadillo (99.99%)\nMoved to Nilgai/predictions/Armadillo.\n\n49 prediction: Turkey (99.99%)\nMoved to Nilgai/predictions/Turkey.\n\n5 prediction: Birds (100.00%)\nMoved to Nilgai/predictions/Birds.\n\n50 prediction: Turkey (100.00%)\nMoved to Nilgai/predictions/Turkey.\n\n51 prediction: Turkey (99.90%)\nMoved to Nilgai/predictions/Turkey.\n\n52 prediction: Coyote (100.00%)\nMoved to Nilgai/predictions/Coyote.\n\n53 prediction: Opossum (100.00%)\nMoved to Nilgai/predictions/Opossum.\n\n54 prediction: Opossum (99.98%)\nMoved to Nilgai/predictions/Opossum.\n\n55 prediction: Mouse (100.00%)\nMoved to Nilgai/predictions/Mouse.\n\n56 prediction: Ocelot (99.99%)\nMoved to Nilgai/predictions/Ocelot.\n\n57 prediction: Turkey (83.72%)\nMoved to Nilgai/predictions/Turkey.\n\n58 prediction: Nilgai (100.00%)\nMoved to Nilgai/predictions/Nilgai.\n\n59 prediction: Humans (100.00%)\nMoved to Nilgai/predictions/Humans.\n\n6 prediction: None (99.97%)\nMoved to Nilgai/predictions/None.\n\n60 prediction: White-Tailed Deer (100.00%)\nMoved to Nilgai/predictions/White-Tailed Deer.\n\n61 prediction: White-Tailed Deer (100.00%)\nMoved to Nilgai/predictions/White-Tailed Deer.\n\n62 prediction: Humans (100.00%)\nMoved to Nilgai/predictions/Humans.\n\n63 prediction: Bobcat (100.00%)\nMoved to Nilgai/predictions/Bobcat.\n\n64 prediction: Humans (55.16%)\nMoved to Nilgai/predictions/Humans.\n\n65 prediction: Raccoon (100.00%)\nMoved to Nilgai/predictions/Raccoon.\n\n66 prediction: Raccoon (100.00%)\nMoved to Nilgai/predictions/Raccoon.\n\n67 prediction: Exotics, Other (100.00%)\nMoved to Nilgai/predictions/Exotics, Other.\n\n68 prediction: Humans (94.53%)\nMoved to Nilgai/predictions/Humans.\n\n69 prediction: Horse (99.63%)\nMoved to Nilgai/predictions/Horse.\n\n7 prediction: Bobcat (99.99%)\nMoved to Nilgai/predictions/Bobcat.\n\n70 prediction: Bobcat (100.00%)\nMoved to Nilgai/predictions/Bobcat.\n\n71 prediction: Nilgai (66.26%)\nMoved to Nilgai/predictions/Nilgai.\n\n72 prediction: Rat (94.97%)\nMoved to Nilgai/predictions/Rat.\n\n73 prediction: Unknown (100.00%)\nMoved to Nilgai/predictions/Unknown.\n\n74 prediction: Spider (100.00%)\nMoved to Nilgai/predictions/Spider.\n\n75 prediction: Rat (100.00%)\nMoved to Nilgai/predictions/Rat.\n\n76 prediction: Spider (100.00%)\nMoved to Nilgai/predictions/Spider.\n\n77 prediction: Rabbit (99.80%)\nMoved to Nilgai/predictions/Rabbit.\n\n78 prediction: Exotics, Other (100.00%)\nMoved to Nilgai/predictions/Exotics, Other.\n\n79 prediction: Pig (100.00%)\nMoved to Nilgai/predictions/Pig.\n\n8 prediction: Coyote (99.96%)\nMoved to Nilgai/predictions/Coyote.\n\n80 prediction: Squirrel (100.00%)\nMoved to Nilgai/predictions/Squirrel.\n\n81 prediction: Squirrel (100.00%)\nMoved to Nilgai/predictions/Squirrel.\n\n82 prediction: Squirrel (99.99%)\nMoved to Nilgai/predictions/Squirrel.\n\n83 prediction: Squirrel (100.00%)\nMoved to Nilgai/predictions/Squirrel.\n\n84 prediction: Humans (100.00%)\nMoved to Nilgai/predictions/Humans.\n\n85 prediction: Rabbit (100.00%)\nMoved to Nilgai/predictions/Rabbit.\n\n86 prediction: Skunk (100.00%)\nMoved to Nilgai/predictions/Skunk.\n\n87 prediction: Mouse (100.00%)\nMoved to Nilgai/predictions/Mouse.\n\n88 prediction: Spider (100.00%)\nMoved to Nilgai/predictions/Spider.\n\n89 prediction: Exotics, Other (100.00%)\nMoved to Nilgai/predictions/Exotics, Other.\n\n9 prediction: Tortoise (100.00%)\nMoved to Nilgai/predictions/Tortoise.\n\n90 prediction: Humans (100.00%)\nMoved to Nilgai/predictions/Humans.\n\n91 prediction: Horse (100.00%)\nMoved to Nilgai/predictions/Horse.\n\n92 prediction: None (100.00%)\nMoved to Nilgai/predictions/None.\n\n93 prediction: Rat (100.00%)\nMoved to Nilgai/predictions/Rat.\n\n94 prediction: Rat (100.00%)\nMoved to Nilgai/predictions/Rat.\n\n95 prediction: None (100.00%)\nMoved to Nilgai/predictions/None.\n\n96 prediction: White-Tailed Deer (100.00%)\nMoved to Nilgai/predictions/White-Tailed Deer.\n\n97 prediction: Mouse (100.00%)\nMoved to Nilgai/predictions/Mouse.\n\n98 prediction: Humans (100.00%)\nMoved to Nilgai/predictions/Humans.\n\n99 prediction: Mouse (100.00%)\nMoved to Nilgai/predictions/Mouse.\n"
    }
   ],
   "source": [
    "## Map prediction name to labels, move images to repsective folders, and print results\n",
    "## Todo: make this a function\n",
    "for i, logits in enumerate(pred):\n",
    "    class_idx = tf.argmax(logits).numpy()\n",
    "    p = logits[class_idx]\n",
    "    name = class_names[class_idx]\n",
    "    img_name = os.path.split(test_generator.filenames[i])[1]\n",
    "    samp_name = os.path.splitext(img_name)[0]\n",
    "    img = os.path.join(img_dir,img_name)\n",
    "    dst = os.path.join(pred_dir, name)\n",
    "    shutil.copy(img, dst)\n",
    "    print(\"\\n{} prediction: {} ({:4.2f}%)\".format(samp_name, name, 100*p))\n",
    "    print(\"Moved to Nilgai/predictions/\" + name + \".\")\n"
   ]
  },
  {
   "cell_type": "code",
   "execution_count": null,
   "metadata": {},
   "outputs": [],
   "source": []
  }
 ],
 "metadata": {
  "language_info": {
   "codemirror_mode": {
    "name": "ipython",
    "version": 3
   },
   "file_extension": ".py",
   "mimetype": "text/x-python",
   "name": "python",
   "nbconvert_exporter": "python",
   "pygments_lexer": "ipython3",
   "version": "3.7.7-final"
  },
  "orig_nbformat": 2,
  "kernelspec": {
   "name": "python37764bittf21conda2d5e8e5529ee4229b3fd9d7f11fc5f96",
   "display_name": "Python 3.7.7 64-bit ('tf2.1': conda)"
  }
 },
 "nbformat": 4,
 "nbformat_minor": 2
}